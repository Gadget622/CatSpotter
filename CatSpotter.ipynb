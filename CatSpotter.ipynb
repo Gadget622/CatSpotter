{
 "cells": [
  {
   "cell_type": "markdown",
   "id": "9b7f64a5-f521-4b48-8625-0c94fe75e531",
   "metadata": {},
   "source": [
    "## Data Preparation"
   ]
  },
  {
   "cell_type": "code",
   "execution_count": 2,
   "id": "6ec7944f-90dd-443a-aa4e-6f95db701bb0",
   "metadata": {},
   "outputs": [],
   "source": [
    "import torch\n",
    "from torchvision import transforms\n",
    "from torchvision.transforms import Lambda, Resize\n",
    "from datasets import load_dataset\n",
    "\n",
    "''' \n",
    "Creates a class object MyDataset\n",
    "************\n",
    "__init__\n",
    "  This function will load a part of the ImageNet-1K dataset specified in the \n",
    "  class caller.\n",
    "  Options are train, validation, and test.\n",
    "************\n",
    "__getitem__\n",
    "  This function will return two variables containing each a variable present \n",
    "  in the original ImageNet-1K dataset.\n",
    "  Before returning these variables, it will split up and transform the image \n",
    "  into a fixed resolution of 256 by 256 pixels.\n",
    "  \n",
    "Returns: data, label\n",
    "************\n",
    "__len__\n",
    "Returns: the length of the loaded dataset.\n",
    "'''\n",
    "\n",
    "\n",
    "class MyDataset(torch.utils.data.Dataset):\n",
    "    def __init__(self, dataset):\n",
    "        # Loads the dataset that needs to be transformed\n",
    "        self.dataset = load_dataset(\"Bingsu/Cat_and_Dog\", split=f\"{dataset}\")\n",
    "        \n",
    "\n",
    "    def __getitem__(self, idx):\n",
    "        # Sample row idx from the loaded dataset\n",
    "        sample = self.dataset[idx]\n",
    "        \n",
    "        # Split up the sample example into an image and label variable\n",
    "        data, label = sample['image'], sample['labels']\n",
    "        \n",
    "        transform = transforms.Compose([\n",
    "            transforms.Resize((256, 256)),  # Resize to size 256x256\n",
    "            Lambda(lambda x: x.convert(\"RGB\") if x.mode != \"RGB\" else x),  # Convert all images to RGB format\n",
    "            transforms.ToTensor(),  # Transform image to Tensor object\n",
    "        ])\n",
    "        \n",
    "        return transform(data), torch.tensor(label)\n",
    "\n",
    "    def __len__(self):\n",
    "        return len(self.dataset)"
   ]
  },
  {
   "cell_type": "code",
   "execution_count": 7,
   "id": "a1373081-f310-4daf-b9c2-642109f460b9",
   "metadata": {},
   "outputs": [
    {
     "name": "stderr",
     "output_type": "stream",
     "text": [
      "Found cached dataset parquet (C:/Users/spenc/.cache/huggingface/datasets/Bingsu___parquet/Bingsu--Cat_and_Dog-700815090bea8354/0.0.0/2a3b91fbd88a2c90d1dbbb32b460cf621d31bd5b05b934492fdef7d8d6f236ec)\n",
      "Found cached dataset parquet (C:/Users/spenc/.cache/huggingface/datasets/Bingsu___parquet/Bingsu--Cat_and_Dog-700815090bea8354/0.0.0/2a3b91fbd88a2c90d1dbbb32b460cf621d31bd5b05b934492fdef7d8d6f236ec)\n"
     ]
    }
   ],
   "source": [
    "# Load and execute transformations on datasets\n",
    "train_set = MyDataset('train')\n",
    "val_set = MyDataset('test')"
   ]
  },
  {
   "cell_type": "code",
   "execution_count": 15,
   "id": "29901aee",
   "metadata": {},
   "outputs": [
    {
     "data": {
      "text/plain": [
       "Image(decode=True, id=None)"
      ]
     },
     "execution_count": 15,
     "metadata": {},
     "output_type": "execute_result"
    }
   ],
   "source": [
    "val_set.dataset.features['image']"
   ]
  },
  {
   "cell_type": "markdown",
   "id": "932b5acd-b466-46bb-b92c-e7c5facd26c1",
   "metadata": {},
   "source": [
    "## Building the Neural Network Layer Sequence"
   ]
  },
  {
   "cell_type": "code",
   "execution_count": 5,
   "id": "4a19ccd5-852f-4bce-9422-06d5f4a97f5b",
   "metadata": {},
   "outputs": [],
   "source": [
    "# import the necessary packages\n",
    "from torch.nn import Module\n",
    "from torch.nn import Conv2d\n",
    "from torch.nn import Linear\n",
    "from torch.nn import MaxPool2d\n",
    "from torch.nn import ReLU\n",
    "from torch.nn import LogSoftmax\n",
    "from torch import flatten\n",
    "from torch import nn"
   ]
  },
  {
   "cell_type": "code",
   "execution_count": 6,
   "id": "1bfe552c-d0f7-4946-8db1-5f7eb1e70218",
   "metadata": {},
   "outputs": [],
   "source": [
    "class CatSpotter(Module):\n",
    "    def __init__(self, numChannels, classes):\n",
    "        # call the parent constructor\n",
    "        super(CatSpotter, self).__init__()\n",
    "        # initialize first set of CONV => RELU => POOL layers\n",
    "        self.conv1 = Conv2d(in_channels=numChannels, out_channels=20,\n",
    "            kernel_size=(5, 5))\n",
    "        self.relu1 = ReLU()\n",
    "        self.maxpool1 = MaxPool2d(kernel_size=(2, 2), stride=(2, 2))\n",
    "        # initialize second set of CONV => RELU => POOL layers\n",
    "        self.conv2 = Conv2d(in_channels=20, out_channels=50,\n",
    "            kernel_size=(5, 5))\n",
    "        self.relu2 = ReLU()\n",
    "        self.maxpool2 = MaxPool2d(kernel_size=(2, 2), stride=(2, 2))\n",
    "        # initialize third set of CONV => RELU => POOL layers\n",
    "        self.conv3 = Conv2d(in_channels=50, out_channels=200,\n",
    "            kernel_size=(5, 5))\n",
    "        self.relu3 = ReLU()\n",
    "        self.maxpool3 = MaxPool2d(kernel_size=(2, 2), stride=(2, 2))\n",
    "        # initialize first (and only) set of FC => RELU layers\n",
    "        self.fc1 = Linear(in_features=200 * 28 * 28, out_features=500)  # Update in_features\n",
    "        self.relu4 = ReLU()\n",
    "        # initialize our softmax classifier\n",
    "        self.fc2 = Linear(in_features=500, out_features=classes)\n",
    "        self.logSoftmax = LogSoftmax(dim=1)\n",
    "        \n",
    "    def forward(self, x):\n",
    "        # pass the input through our first set of CONV => RELU =>\n",
    "        # POOL layers\n",
    "        x = self.conv1(x)\n",
    "        x = self.relu1(x)\n",
    "        x = self.maxpool1(x)\n",
    "        # pass the output from the previous layer through the second\n",
    "        # set of CONV => RELU => POOL layers\n",
    "        x = self.conv2(x)\n",
    "        x = self.relu2(x)\n",
    "        x = self.maxpool2(x)\n",
    "        # pass the output from the previous layer through the third\n",
    "        # set of CONV => RELU => POOL layers\n",
    "        x = self.conv3(x)\n",
    "        x = self.relu3(x)\n",
    "        x = self.maxpool3(x)\n",
    "        # flatten the output from the previous layer and pass it\n",
    "        # through our only set of FC => RELU layers\n",
    "        x = flatten(x, 1)\n",
    "        x = self.fc1(x)\n",
    "        x = self.relu4(x)\n",
    "        # pass the output to our softmax classifier to get our output\n",
    "        # predictions\n",
    "        x = self.fc2(x)\n",
    "        output = self.logSoftmax(x)\n",
    "        # return the output predictions\n",
    "        return output"
   ]
  },
  {
   "cell_type": "markdown",
   "id": "ec81e547-16d3-4ddf-8f6a-7bc070e1bf0f",
   "metadata": {},
   "source": [
    "## Initializing The Model"
   ]
  },
  {
   "cell_type": "code",
   "execution_count": 9,
   "id": "b68e72ba-2069-4e6d-bb73-11444d0a855f",
   "metadata": {},
   "outputs": [],
   "source": [
    "# import the necessary packages\n",
    "from sklearn.metrics import classification_report\n",
    "from torch.utils.data import DataLoader\n",
    "from torch.optim import Adam\n",
    "from torch.cuda.amp import autocast, GradScaler\n",
    "from PIL import Image\n",
    "import matplotlib.pyplot as plt\n",
    "import numpy as np\n",
    "import argparse\n",
    "import time\n",
    "from tqdm import tqdm\n",
    "import glob\n",
    "import os"
   ]
  },
  {
   "cell_type": "code",
   "execution_count": 10,
   "id": "72e84c0d-c4ce-46cc-a641-ae64c4f13689",
   "metadata": {},
   "outputs": [],
   "source": [
    "# define training hyperparameters\n",
    "INIT_LR = 1e-3\n",
    "BATCH_SIZE = 128\n",
    "EPOCHS = 100\n",
    "\n",
    "# set the device we will be using to train the model\n",
    "device = torch.device(\"cuda\" if torch.cuda.is_available() else \"cpu\")"
   ]
  },
  {
   "cell_type": "code",
   "execution_count": 11,
   "id": "f7d8776b-20cf-46ab-94bd-463c2d1f7da0",
   "metadata": {},
   "outputs": [],
   "source": [
    "# calculate steps per epoch for training and validation set\n",
    "trainSteps = len(train_set) // BATCH_SIZE\n",
    "valSteps = len(val_set) // BATCH_SIZE"
   ]
  },
  {
   "cell_type": "code",
   "execution_count": 15,
   "id": "adf303c0-684f-49b8-9d98-2f0784fe7cf8",
   "metadata": {},
   "outputs": [
    {
     "name": "stdout",
     "output_type": "stream",
     "text": [
      "[INFO] initializing the deCNN model...\n"
     ]
    }
   ],
   "source": [
    "# initialize the CatSpotter model\n",
    "print(\"[INFO] initializing the CatSpotter model...\")\n",
    "model = CatSpotter(\n",
    "    numChannels=3,\n",
    "    classes=2).to(device)\n",
    "# initialize our optimizer and loss function\n",
    "opt = Adam(model.parameters(), lr=INIT_LR)\n",
    "lossFn = nn.NLLLoss()\n",
    "# initialize a dictionary to store training history\n",
    "H = {\n",
    "    \"train_loss\": [],\n",
    "    \"train_acc\": [],\n",
    "    \"val_loss\": [],\n",
    "    \"val_acc\": []\n",
    "}\n",
    "# Create a GradScaler for mixed-precision training\n",
    "scaler = GradScaler()"
   ]
  },
  {
   "cell_type": "markdown",
   "id": "35358ce4-471c-4787-be34-756eff745bfe",
   "metadata": {},
   "source": [
    "## Initializing Model Checkpoints"
   ]
  },
  {
   "cell_type": "code",
   "execution_count": 18,
   "id": "87f57703-620d-45a7-b7e4-7aadf527c1a7",
   "metadata": {},
   "outputs": [],
   "source": [
    "# Initialize model checkpoint saving location\n",
    "PATH = 'models/1-23-2024'"
   ]
  },
  {
   "cell_type": "code",
   "execution_count": 17,
   "id": "af13cbc5-3b4a-42d2-85d9-246c357790fd",
   "metadata": {},
   "outputs": [],
   "source": [
    "# Save model checkpoint\n",
    "def save_ckp(state, checkpoint_dir, epoch_nr):\n",
    "    f_path = checkpoint_dir + f'/epoch_{epoch_nr}.pt'\n",
    "    torch.save(state, f_path)"
   ]
  },
  {
   "cell_type": "code",
   "execution_count": 19,
   "id": "0b3f1d13-9d2a-4346-bc10-7d826970c021",
   "metadata": {},
   "outputs": [],
   "source": [
    "# # Load model from checkpoint\n",
    "# print(\"[INFO] Loading the network from checkpoint...\")\n",
    "# files = sorted(glob.glob(f\"{PATH}/*\"), key=os.path.getctime, reverse=True)\n",
    "# checkpoint = torch.load(files[0])\n",
    "# model.load_state_dict(checkpoint['state_dict'])\n",
    "# opt.load_state_dict(checkpoint['optimizer'])\n",
    "# epoch = checkpoint['epoch']"
   ]
  },
  {
   "cell_type": "markdown",
   "id": "b4aa8288-7a7a-4d5a-a190-74b0c28d547a",
   "metadata": {},
   "source": [
    "## The Model Trainer"
   ]
  },
  {
   "cell_type": "code",
   "execution_count": 24,
   "id": "727a591f-f101-49d6-ba8e-8a4e8e55d1ba",
   "metadata": {},
   "outputs": [],
   "source": [
    "# initialize the train, validation, and test data loaders\n",
    "trainDataLoader = torch.utils.data.DataLoader(train_set, batch_size=BATCH_SIZE, pin_memory = True, shuffle=True)\n",
    "valDataLoader = torch.utils.data.DataLoader(val_set, batch_size=BATCH_SIZE, pin_memory = True)"
   ]
  },
  {
   "cell_type": "code",
   "execution_count": null,
   "id": "db5d68dd-025d-4943-8016-14221ab5f9fe",
   "metadata": {},
   "outputs": [
    {
     "name": "stdout",
     "output_type": "stream",
     "text": [
      "[INFO] training the CatSpotter network...\n"
     ]
    },
    {
     "name": "stderr",
     "output_type": "stream",
     "text": [
      " 38%|███▊      | 24/63 [03:49<05:52,  9.04s/batch]"
     ]
    }
   ],
   "source": [
    "###### measure how long training is going to take\n",
    "print(\"[INFO] training the CatSpotter network...\")\n",
    "startTime = time.time()\n",
    "\n",
    "# loop over our epochs\n",
    "for e in range(0, EPOCHS):\n",
    "    # initialize the total training and validation loss\n",
    "    totalTrainLoss = 0\n",
    "    totalValLoss = 0\n",
    "    # initialize the number of correct predictions in the training\n",
    "    # and validation step\n",
    "    trainCorrect = 0\n",
    "    valCorrect = 0\n",
    "\n",
    "    # set the model in training mode\n",
    "    model.train()\n",
    "\n",
    "    # loop over the training set\n",
    "    with tqdm(trainDataLoader, unit=\"batch\") as tepoch:\n",
    "        for x, y in tepoch:\n",
    "            \n",
    "            # send the input to the device\n",
    "            (x, y) = (x.to(device), y.to(device))\n",
    "            \n",
    "            # zero out the gradients\n",
    "            opt.zero_grad()\n",
    "            \n",
    "            # Enables autocasting for the forward pass (model + loss)\n",
    "            output = model(x)\n",
    "            loss = lossFn(output, y)\n",
    "\n",
    "            # Exits the context manager before backward()\n",
    "            loss.backward()\n",
    "            opt.step()           \n",
    "\n",
    "            # add the loss to the total training loss so far and\n",
    "            # calculate the number of correct predictions\n",
    "            totalTrainLoss += loss\n",
    "            trainCorrect += (output.argmax(1) == y).type(\n",
    "                torch.float).sum().item()\n",
    "\n",
    "    # switch off autograd for evaluation\n",
    "    with torch.no_grad():\n",
    "        # set the model in evaluation mode\n",
    "        model.eval()\n",
    "        # loop over the validation set\n",
    "        with tqdm(valDataLoader, unit=\"batch\") as vepoch:\n",
    "            for (x, y) in vepoch:\n",
    "                # send the input to the device\n",
    "                (x, y) = (x.to(device), y.to(device))\n",
    "                # make the predictions and calculate the validation loss\n",
    "                \n",
    "                output = model(x)\n",
    "                \n",
    "                totalValLoss += lossFn(output, y)\n",
    "                # calculate the number of correct predictions\n",
    "                valCorrect += (output.argmax(1) == y).type(\n",
    "                    torch.float).sum().item()\n",
    "\n",
    "    # calculate the average training and validation loss\n",
    "    avgTrainLoss = totalTrainLoss / trainSteps\n",
    "    avgValLoss = totalValLoss / valSteps\n",
    "    # calculate the training and validation accuracy\n",
    "    trainCorrect = trainCorrect / len(train_set)\n",
    "    valCorrect = valCorrect / len(val_set)\n",
    "    # update our training history\n",
    "    H[\"train_loss\"].append(avgTrainLoss)\n",
    "    H[\"train_acc\"].append(trainCorrect)\n",
    "    H[\"val_loss\"].append(avgValLoss)\n",
    "    H[\"val_acc\"].append(valCorrect)\n",
    "    # print the model training and validation information\n",
    "    print(\"[INFO] EPOCH: {}/{}\".format(e + 1, EPOCHS))\n",
    "    print(\"Train loss: {:.6f}, Train accuracy: {:.4f}\".format(\n",
    "        avgTrainLoss, trainCorrect))\n",
    "    print(\"Val loss: {:.6f}, Val accuracy: {:.4f}\\n\".format(\n",
    "        avgValLoss, valCorrect))\n",
    "\n",
    "    # Save the epoch model parameters\n",
    "    checkpoint = {\n",
    "        'epoch': e + 1,\n",
    "        'state_dict': model.state_dict(),\n",
    "        'optimizer': opt.state_dict()\n",
    "    }\n",
    "\n",
    "    save_ckp(checkpoint, PATH , e)\n",
    "\n",
    "# finish measuring how long training took\n",
    "endTime = time.time()\n",
    "print(\"[INFO] total time taken to train the model: {:.2f}s\".format(\n",
    "    endTime - startTime))"
   ]
  },
  {
   "cell_type": "markdown",
   "id": "b98591ed-b7ba-49f6-bfe8-923fac97de07",
   "metadata": {},
   "source": [
    "## Model Evaluation"
   ]
  },
  {
   "cell_type": "code",
   "execution_count": null,
   "id": "9aa30484-ce5e-4977-be50-19bdb6590fe0",
   "metadata": {},
   "outputs": [],
   "source": [
    "# we can now evaluate the network on the test set\n",
    "print(\"[INFO] evaluating network...\")\n",
    "# turn off autograd for testing evaluation\n",
    "with torch.no_grad():\n",
    "    # set the model in evaluation mode\n",
    "    model.eval()\n",
    "\n",
    "    # initialize a list to store our predictions\n",
    "    preds = []\n",
    "    # loop over the test set\n",
    "    for batch in valDataLoader:\n",
    "        x = batch[\"image\"].to(device)\n",
    "        # make the predictions and add them to the list\n",
    "        pred = model(x)\n",
    "        preds.extend(pred.argmax(axis=1).cpu().numpy())\n",
    "\n",
    "\n",
    "# generate a classification report\n",
    "print(classification_report(validation_data['label'], np.array(preds)))"
   ]
  }
 ],
 "metadata": {
  "kernelspec": {
   "display_name": "Python 3 (ipykernel)",
   "language": "python",
   "name": "python3"
  },
  "language_info": {
   "codemirror_mode": {
    "name": "ipython",
    "version": 3
   },
   "file_extension": ".py",
   "mimetype": "text/x-python",
   "name": "python",
   "nbconvert_exporter": "python",
   "pygments_lexer": "ipython3",
   "version": "3.9.6"
  }
 },
 "nbformat": 4,
 "nbformat_minor": 5
}
